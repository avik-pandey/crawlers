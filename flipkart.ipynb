{
 "cells": [
  {
   "cell_type": "code",
   "execution_count": 11,
   "metadata": {},
   "outputs": [],
   "source": [
    "import selenium\n",
    "from selenium.webdriver import ActionChains"
   ]
  },
  {
   "cell_type": "code",
   "execution_count": 12,
   "metadata": {},
   "outputs": [],
   "source": [
    "from selenium import webdriver\n",
    "from selenium.webdriver.common.keys import Keys\n",
    "from selenium.webdriver.chrome.options import Options\n",
    "from selenium.webdriver.common.by import By\n",
    "from selenium.webdriver.support.ui import WebDriverWait\n",
    "from selenium.webdriver.support import expected_conditions as EC\n",
    "from selenium.common.exceptions import NoSuchElementException, TimeoutException\n",
    "import os\n",
    "import bs4\n",
    "import time\n",
    "from bs4 import BeautifulSoup\n",
    "import pandas as pd\n",
    "from tqdm import tqdm\n",
    "import numpy as np"
   ]
  },
  {
   "cell_type": "code",
   "execution_count": 13,
   "metadata": {},
   "outputs": [],
   "source": [
    "options = Options()\n",
    "options.add_argument(\"start-maximized\")#fullscreen mode\n",
    "# options.add_argument(\"--headless\")\n",
    "options.add_argument(\"--window-size=1920,1080\")\n",
    "options.add_experimental_option(\"excludeSwitches\", [\"enable-automation\"])\n",
    "options.add_experimental_option('useAutomationExtension', False)\n",
    "driver = webdriver.Chrome(options=options)\n",
    "def patching_get(driver, url):\n",
    "    # Run this until works\n",
    "    done = False\n",
    "    tries = 10\n",
    "    x = 0\n",
    "    while not done:\n",
    "        x += 1\n",
    "        if x > tries:\n",
    "            raise\n",
    "        try:\n",
    "            driver.get(url)\n",
    "            done = True\n",
    "        except KeyboardInterrupt:\n",
    "            raise\n",
    "        except: \n",
    "            time.sleep(1)\n",
    "    return driver"
   ]
  },
  {
   "cell_type": "code",
   "execution_count": 14,
   "metadata": {},
   "outputs": [],
   "source": [
    "all_categories = []\n",
    "def getAllCategories(driver,base_url = \"https://www.flipkart.com/\"):\n",
    "    driver = patching_get(driver,base_url)\n",
    "    menPath = driver.find_element_by_xpath('//*[@id=\"container\"]/div/div[2]/div/ul/li[3]/span').text\n",
    "    womenPath = driver.find_element_by_xpath('//*[@id=\"container\"]/div/div[2]/div/ul/li[4]/span').text\n",
    "    print(menPath)\n",
    "    print(womenPath)\n",
    "    \n",
    "    links = driver.find_elements_by_class_name('_3GtRpC')\n",
    "    for i in range(len(links)):\n",
    "        if(i == 0 or i == 1):\n",
    "            continue\n",
    "        if(i > 3):\n",
    "            break\n",
    "            \n",
    "        \n",
    "    print(len(links))"
   ]
  },
  {
   "cell_type": "code",
   "execution_count": 15,
   "metadata": {},
   "outputs": [
    {
     "name": "stdout",
     "output_type": "stream",
     "text": [
      "Men\n",
      "Women\n",
      "7\n"
     ]
    }
   ],
   "source": [
    "getAllCategories(driver)"
   ]
  },
  {
   "cell_type": "code",
   "execution_count": null,
   "metadata": {},
   "outputs": [],
   "source": []
  }
 ],
 "metadata": {
  "kernelspec": {
   "display_name": "Python 3",
   "language": "python",
   "name": "python3"
  },
  "language_info": {
   "codemirror_mode": {
    "name": "ipython",
    "version": 3
   },
   "file_extension": ".py",
   "mimetype": "text/x-python",
   "name": "python",
   "nbconvert_exporter": "python",
   "pygments_lexer": "ipython3",
   "version": "3.8.3rc1"
  }
 },
 "nbformat": 4,
 "nbformat_minor": 4
}
